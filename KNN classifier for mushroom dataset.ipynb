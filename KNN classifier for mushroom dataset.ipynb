{
 "cells": [
  {
   "cell_type": "markdown",
   "metadata": {},
   "source": [
    "#  K-Nearest Neighbors Classifier for Mushroom Dataset"
   ]
  },
  {
   "cell_type": "markdown",
   "metadata": {},
   "source": [
    "Import the required libraries. Pandas will be used for reading data file and various other operations on the dataframe. Numpy will be used for mathematical operations on the data. sklearn.metrics and sklearn will be used for calculating accuracy and comparing the performance of the sklearn KNN classifier with my own implementation of the same. math and random libraries will be used for various other operations"
   ]
  },
  {
   "cell_type": "code",
   "execution_count": 1,
   "metadata": {},
   "outputs": [],
   "source": [
    "import pandas as pd\n",
    "import numpy as np\n",
    "import matplotlib.pyplot as plt\n",
    "import seaborn as sns\n",
    "import random\n",
    "import math\n",
    "from collections import Counter\n",
    "from sklearn.metrics import confusion_matrix\n",
    "from sklearn.metrics import f1_score"
   ]
  },
  {
   "cell_type": "markdown",
   "metadata": {},
   "source": [
    "# Data Preprocessing"
   ]
  },
  {
   "cell_type": "markdown",
   "metadata": {},
   "source": [
    "Read the data from the path and see the contents and columns and the datatypes.Check which values are null.Which of the columns are sparse and decide on the basis of this which columns to drop."
   ]
  },
  {
   "cell_type": "code",
   "execution_count": 2,
   "metadata": {},
   "outputs": [
    {
     "data": {
      "text/html": [
       "<div>\n",
       "<style scoped>\n",
       "    .dataframe tbody tr th:only-of-type {\n",
       "        vertical-align: middle;\n",
       "    }\n",
       "\n",
       "    .dataframe tbody tr th {\n",
       "        vertical-align: top;\n",
       "    }\n",
       "\n",
       "    .dataframe thead th {\n",
       "        text-align: right;\n",
       "    }\n",
       "</style>\n",
       "<table border=\"1\" class=\"dataframe\">\n",
       "  <thead>\n",
       "    <tr style=\"text-align: right;\">\n",
       "      <th></th>\n",
       "      <th>0</th>\n",
       "      <th>1</th>\n",
       "      <th>2</th>\n",
       "      <th>3</th>\n",
       "      <th>4</th>\n",
       "      <th>5</th>\n",
       "      <th>6</th>\n",
       "      <th>7</th>\n",
       "      <th>8</th>\n",
       "      <th>9</th>\n",
       "      <th>...</th>\n",
       "      <th>13</th>\n",
       "      <th>14</th>\n",
       "      <th>15</th>\n",
       "      <th>16</th>\n",
       "      <th>17</th>\n",
       "      <th>18</th>\n",
       "      <th>19</th>\n",
       "      <th>20</th>\n",
       "      <th>21</th>\n",
       "      <th>22</th>\n",
       "    </tr>\n",
       "  </thead>\n",
       "  <tbody>\n",
       "    <tr>\n",
       "      <th>0</th>\n",
       "      <td>e</td>\n",
       "      <td>k</td>\n",
       "      <td>s</td>\n",
       "      <td>n</td>\n",
       "      <td>f</td>\n",
       "      <td>n</td>\n",
       "      <td>a</td>\n",
       "      <td>c</td>\n",
       "      <td>b</td>\n",
       "      <td>y</td>\n",
       "      <td>...</td>\n",
       "      <td>s</td>\n",
       "      <td>o</td>\n",
       "      <td>o</td>\n",
       "      <td>p</td>\n",
       "      <td>n</td>\n",
       "      <td>o</td>\n",
       "      <td>p</td>\n",
       "      <td>b</td>\n",
       "      <td>c</td>\n",
       "      <td>l</td>\n",
       "    </tr>\n",
       "    <tr>\n",
       "      <th>1</th>\n",
       "      <td>e</td>\n",
       "      <td>k</td>\n",
       "      <td>s</td>\n",
       "      <td>g</td>\n",
       "      <td>f</td>\n",
       "      <td>n</td>\n",
       "      <td>f</td>\n",
       "      <td>w</td>\n",
       "      <td>b</td>\n",
       "      <td>p</td>\n",
       "      <td>...</td>\n",
       "      <td>s</td>\n",
       "      <td>w</td>\n",
       "      <td>w</td>\n",
       "      <td>p</td>\n",
       "      <td>w</td>\n",
       "      <td>t</td>\n",
       "      <td>p</td>\n",
       "      <td>w</td>\n",
       "      <td>s</td>\n",
       "      <td>g</td>\n",
       "    </tr>\n",
       "    <tr>\n",
       "      <th>2</th>\n",
       "      <td>e</td>\n",
       "      <td>b</td>\n",
       "      <td>s</td>\n",
       "      <td>g</td>\n",
       "      <td>f</td>\n",
       "      <td>n</td>\n",
       "      <td>f</td>\n",
       "      <td>w</td>\n",
       "      <td>b</td>\n",
       "      <td>w</td>\n",
       "      <td>...</td>\n",
       "      <td>s</td>\n",
       "      <td>w</td>\n",
       "      <td>w</td>\n",
       "      <td>p</td>\n",
       "      <td>w</td>\n",
       "      <td>t</td>\n",
       "      <td>p</td>\n",
       "      <td>w</td>\n",
       "      <td>s</td>\n",
       "      <td>g</td>\n",
       "    </tr>\n",
       "    <tr>\n",
       "      <th>3</th>\n",
       "      <td>e</td>\n",
       "      <td>s</td>\n",
       "      <td>f</td>\n",
       "      <td>g</td>\n",
       "      <td>f</td>\n",
       "      <td>n</td>\n",
       "      <td>f</td>\n",
       "      <td>c</td>\n",
       "      <td>n</td>\n",
       "      <td>n</td>\n",
       "      <td>...</td>\n",
       "      <td>s</td>\n",
       "      <td>w</td>\n",
       "      <td>w</td>\n",
       "      <td>p</td>\n",
       "      <td>w</td>\n",
       "      <td>o</td>\n",
       "      <td>p</td>\n",
       "      <td>n</td>\n",
       "      <td>v</td>\n",
       "      <td>u</td>\n",
       "    </tr>\n",
       "    <tr>\n",
       "      <th>4</th>\n",
       "      <td>e</td>\n",
       "      <td>f</td>\n",
       "      <td>f</td>\n",
       "      <td>g</td>\n",
       "      <td>f</td>\n",
       "      <td>n</td>\n",
       "      <td>f</td>\n",
       "      <td>w</td>\n",
       "      <td>b</td>\n",
       "      <td>p</td>\n",
       "      <td>...</td>\n",
       "      <td>f</td>\n",
       "      <td>w</td>\n",
       "      <td>w</td>\n",
       "      <td>p</td>\n",
       "      <td>w</td>\n",
       "      <td>o</td>\n",
       "      <td>e</td>\n",
       "      <td>n</td>\n",
       "      <td>a</td>\n",
       "      <td>g</td>\n",
       "    </tr>\n",
       "    <tr>\n",
       "      <th>...</th>\n",
       "      <td>...</td>\n",
       "      <td>...</td>\n",
       "      <td>...</td>\n",
       "      <td>...</td>\n",
       "      <td>...</td>\n",
       "      <td>...</td>\n",
       "      <td>...</td>\n",
       "      <td>...</td>\n",
       "      <td>...</td>\n",
       "      <td>...</td>\n",
       "      <td>...</td>\n",
       "      <td>...</td>\n",
       "      <td>...</td>\n",
       "      <td>...</td>\n",
       "      <td>...</td>\n",
       "      <td>...</td>\n",
       "      <td>...</td>\n",
       "      <td>...</td>\n",
       "      <td>...</td>\n",
       "      <td>...</td>\n",
       "      <td>...</td>\n",
       "    </tr>\n",
       "    <tr>\n",
       "      <th>4491</th>\n",
       "      <td>p</td>\n",
       "      <td>x</td>\n",
       "      <td>y</td>\n",
       "      <td>y</td>\n",
       "      <td>f</td>\n",
       "      <td>f</td>\n",
       "      <td>f</td>\n",
       "      <td>c</td>\n",
       "      <td>b</td>\n",
       "      <td>p</td>\n",
       "      <td>...</td>\n",
       "      <td>k</td>\n",
       "      <td>n</td>\n",
       "      <td>n</td>\n",
       "      <td>p</td>\n",
       "      <td>w</td>\n",
       "      <td>o</td>\n",
       "      <td>l</td>\n",
       "      <td>h</td>\n",
       "      <td>y</td>\n",
       "      <td>g</td>\n",
       "    </tr>\n",
       "    <tr>\n",
       "      <th>4492</th>\n",
       "      <td>p</td>\n",
       "      <td>f</td>\n",
       "      <td>y</td>\n",
       "      <td>e</td>\n",
       "      <td>f</td>\n",
       "      <td>y</td>\n",
       "      <td>f</td>\n",
       "      <td>c</td>\n",
       "      <td>n</td>\n",
       "      <td>b</td>\n",
       "      <td>...</td>\n",
       "      <td>k</td>\n",
       "      <td>p</td>\n",
       "      <td>w</td>\n",
       "      <td>p</td>\n",
       "      <td>w</td>\n",
       "      <td>o</td>\n",
       "      <td>e</td>\n",
       "      <td>w</td>\n",
       "      <td>v</td>\n",
       "      <td>d</td>\n",
       "    </tr>\n",
       "    <tr>\n",
       "      <th>4493</th>\n",
       "      <td>p</td>\n",
       "      <td>x</td>\n",
       "      <td>y</td>\n",
       "      <td>g</td>\n",
       "      <td>f</td>\n",
       "      <td>f</td>\n",
       "      <td>f</td>\n",
       "      <td>c</td>\n",
       "      <td>b</td>\n",
       "      <td>h</td>\n",
       "      <td>...</td>\n",
       "      <td>k</td>\n",
       "      <td>p</td>\n",
       "      <td>p</td>\n",
       "      <td>p</td>\n",
       "      <td>w</td>\n",
       "      <td>o</td>\n",
       "      <td>l</td>\n",
       "      <td>h</td>\n",
       "      <td>y</td>\n",
       "      <td>p</td>\n",
       "    </tr>\n",
       "    <tr>\n",
       "      <th>4494</th>\n",
       "      <td>p</td>\n",
       "      <td>x</td>\n",
       "      <td>y</td>\n",
       "      <td>e</td>\n",
       "      <td>f</td>\n",
       "      <td>f</td>\n",
       "      <td>f</td>\n",
       "      <td>c</td>\n",
       "      <td>n</td>\n",
       "      <td>b</td>\n",
       "      <td>...</td>\n",
       "      <td>s</td>\n",
       "      <td>w</td>\n",
       "      <td>p</td>\n",
       "      <td>p</td>\n",
       "      <td>w</td>\n",
       "      <td>o</td>\n",
       "      <td>e</td>\n",
       "      <td>w</td>\n",
       "      <td>v</td>\n",
       "      <td>d</td>\n",
       "    </tr>\n",
       "    <tr>\n",
       "      <th>4495</th>\n",
       "      <td>p</td>\n",
       "      <td>b</td>\n",
       "      <td>s</td>\n",
       "      <td>b</td>\n",
       "      <td>t</td>\n",
       "      <td>n</td>\n",
       "      <td>f</td>\n",
       "      <td>c</td>\n",
       "      <td>b</td>\n",
       "      <td>g</td>\n",
       "      <td>...</td>\n",
       "      <td>s</td>\n",
       "      <td>w</td>\n",
       "      <td>w</td>\n",
       "      <td>p</td>\n",
       "      <td>w</td>\n",
       "      <td>t</td>\n",
       "      <td>p</td>\n",
       "      <td>r</td>\n",
       "      <td>v</td>\n",
       "      <td>g</td>\n",
       "    </tr>\n",
       "  </tbody>\n",
       "</table>\n",
       "<p>4496 rows × 23 columns</p>\n",
       "</div>"
      ],
      "text/plain": [
       "     0  1  2  3  4  5  6  7  8  9   ... 13 14 15 16 17 18 19 20 21 22\n",
       "0     e  k  s  n  f  n  a  c  b  y  ...  s  o  o  p  n  o  p  b  c  l\n",
       "1     e  k  s  g  f  n  f  w  b  p  ...  s  w  w  p  w  t  p  w  s  g\n",
       "2     e  b  s  g  f  n  f  w  b  w  ...  s  w  w  p  w  t  p  w  s  g\n",
       "3     e  s  f  g  f  n  f  c  n  n  ...  s  w  w  p  w  o  p  n  v  u\n",
       "4     e  f  f  g  f  n  f  w  b  p  ...  f  w  w  p  w  o  e  n  a  g\n",
       "...  .. .. .. .. .. .. .. .. .. ..  ... .. .. .. .. .. .. .. .. .. ..\n",
       "4491  p  x  y  y  f  f  f  c  b  p  ...  k  n  n  p  w  o  l  h  y  g\n",
       "4492  p  f  y  e  f  y  f  c  n  b  ...  k  p  w  p  w  o  e  w  v  d\n",
       "4493  p  x  y  g  f  f  f  c  b  h  ...  k  p  p  p  w  o  l  h  y  p\n",
       "4494  p  x  y  e  f  f  f  c  n  b  ...  s  w  p  p  w  o  e  w  v  d\n",
       "4495  p  b  s  b  t  n  f  c  b  g  ...  s  w  w  p  w  t  p  r  v  g\n",
       "\n",
       "[4496 rows x 23 columns]"
      ]
     },
     "execution_count": 2,
     "metadata": {},
     "output_type": "execute_result"
    }
   ],
   "source": [
    "df=pd.read_csv(\"train.csv\",header=None)\n",
    "df"
   ]
  },
  {
   "cell_type": "markdown",
   "metadata": {},
   "source": [
    "The data contains all the values in the attributes as alphabets/characters.Since KNN calculates distance inorder to measure the similarty index and classify into respective classes,we somehow need to convert it to numeric data.So I decided to convert it into ascii values and hence convert into numeric value.\"letters\" is a dictionary which helps in replacing all the occurances of characters with its respective ascii value.Since there also exists missing values in the form of \"?\" we need to replace it as well,so we change it with the mode of that attribute.'e' means mushroom is edible,'p' means mushroom is poisonous."
   ]
  },
  {
   "cell_type": "code",
   "execution_count": 3,
   "metadata": {},
   "outputs": [],
   "source": [
    "letters={\"a\":int(ord('a')),\"b\":int(ord('b')),\"c\":int(ord('c')),\"d\":int(ord('d')),\"e\":int(ord('e')),\"f\":int(ord('f')),\"g\":int(ord('g')),\"h\":int(ord('h'))\n",
    "                                             ,\"i\":int(ord('i')),\"j\":int(ord('j')),\"k\":int(ord('k')),\"l\":int(ord('l')),\"m\":int(ord('m')),\"n\":int(ord('n')),\"o\":int(ord('o')),\"p\":int(ord('p')),\"q\":int(ord('q')),\"r\":int(ord('r'))\n",
    "                                             ,\"s\":int(ord('s')),\"t\":int(ord('t')),\"u\":int(ord('u')),\"v\":int(ord('v')),\"w\":int(ord('w')),\"x\":int(ord('x')),\"y\":int(ord('y')),\"z\":int(ord('z'))} \n",
    "for column in df.columns:\n",
    "    df[column]=df[column].replace(to_replace =\"?\",  \n",
    "                            value =df[column].mode()[0])\n",
    "for column in df.columns:\n",
    "    df[column]=df[column].replace(to_replace=letters)\n",
    "df = df.apply(pd.to_numeric)"
   ]
  },
  {
   "cell_type": "code",
   "execution_count": 4,
   "metadata": {},
   "outputs": [
    {
     "data": {
      "text/html": [
       "<div>\n",
       "<style scoped>\n",
       "    .dataframe tbody tr th:only-of-type {\n",
       "        vertical-align: middle;\n",
       "    }\n",
       "\n",
       "    .dataframe tbody tr th {\n",
       "        vertical-align: top;\n",
       "    }\n",
       "\n",
       "    .dataframe thead th {\n",
       "        text-align: right;\n",
       "    }\n",
       "</style>\n",
       "<table border=\"1\" class=\"dataframe\">\n",
       "  <thead>\n",
       "    <tr style=\"text-align: right;\">\n",
       "      <th></th>\n",
       "      <th>0</th>\n",
       "      <th>1</th>\n",
       "      <th>2</th>\n",
       "      <th>3</th>\n",
       "      <th>4</th>\n",
       "      <th>5</th>\n",
       "      <th>6</th>\n",
       "      <th>7</th>\n",
       "      <th>8</th>\n",
       "      <th>9</th>\n",
       "      <th>...</th>\n",
       "      <th>13</th>\n",
       "      <th>14</th>\n",
       "      <th>15</th>\n",
       "      <th>16</th>\n",
       "      <th>17</th>\n",
       "      <th>18</th>\n",
       "      <th>19</th>\n",
       "      <th>20</th>\n",
       "      <th>21</th>\n",
       "      <th>22</th>\n",
       "    </tr>\n",
       "  </thead>\n",
       "  <tbody>\n",
       "    <tr>\n",
       "      <th>0</th>\n",
       "      <td>101</td>\n",
       "      <td>107</td>\n",
       "      <td>115</td>\n",
       "      <td>110</td>\n",
       "      <td>102</td>\n",
       "      <td>110</td>\n",
       "      <td>97</td>\n",
       "      <td>99</td>\n",
       "      <td>98</td>\n",
       "      <td>121</td>\n",
       "      <td>...</td>\n",
       "      <td>115</td>\n",
       "      <td>111</td>\n",
       "      <td>111</td>\n",
       "      <td>112</td>\n",
       "      <td>110</td>\n",
       "      <td>111</td>\n",
       "      <td>112</td>\n",
       "      <td>98</td>\n",
       "      <td>99</td>\n",
       "      <td>108</td>\n",
       "    </tr>\n",
       "    <tr>\n",
       "      <th>1</th>\n",
       "      <td>101</td>\n",
       "      <td>107</td>\n",
       "      <td>115</td>\n",
       "      <td>103</td>\n",
       "      <td>102</td>\n",
       "      <td>110</td>\n",
       "      <td>102</td>\n",
       "      <td>119</td>\n",
       "      <td>98</td>\n",
       "      <td>112</td>\n",
       "      <td>...</td>\n",
       "      <td>115</td>\n",
       "      <td>119</td>\n",
       "      <td>119</td>\n",
       "      <td>112</td>\n",
       "      <td>119</td>\n",
       "      <td>116</td>\n",
       "      <td>112</td>\n",
       "      <td>119</td>\n",
       "      <td>115</td>\n",
       "      <td>103</td>\n",
       "    </tr>\n",
       "    <tr>\n",
       "      <th>2</th>\n",
       "      <td>101</td>\n",
       "      <td>98</td>\n",
       "      <td>115</td>\n",
       "      <td>103</td>\n",
       "      <td>102</td>\n",
       "      <td>110</td>\n",
       "      <td>102</td>\n",
       "      <td>119</td>\n",
       "      <td>98</td>\n",
       "      <td>119</td>\n",
       "      <td>...</td>\n",
       "      <td>115</td>\n",
       "      <td>119</td>\n",
       "      <td>119</td>\n",
       "      <td>112</td>\n",
       "      <td>119</td>\n",
       "      <td>116</td>\n",
       "      <td>112</td>\n",
       "      <td>119</td>\n",
       "      <td>115</td>\n",
       "      <td>103</td>\n",
       "    </tr>\n",
       "    <tr>\n",
       "      <th>3</th>\n",
       "      <td>101</td>\n",
       "      <td>115</td>\n",
       "      <td>102</td>\n",
       "      <td>103</td>\n",
       "      <td>102</td>\n",
       "      <td>110</td>\n",
       "      <td>102</td>\n",
       "      <td>99</td>\n",
       "      <td>110</td>\n",
       "      <td>110</td>\n",
       "      <td>...</td>\n",
       "      <td>115</td>\n",
       "      <td>119</td>\n",
       "      <td>119</td>\n",
       "      <td>112</td>\n",
       "      <td>119</td>\n",
       "      <td>111</td>\n",
       "      <td>112</td>\n",
       "      <td>110</td>\n",
       "      <td>118</td>\n",
       "      <td>117</td>\n",
       "    </tr>\n",
       "    <tr>\n",
       "      <th>4</th>\n",
       "      <td>101</td>\n",
       "      <td>102</td>\n",
       "      <td>102</td>\n",
       "      <td>103</td>\n",
       "      <td>102</td>\n",
       "      <td>110</td>\n",
       "      <td>102</td>\n",
       "      <td>119</td>\n",
       "      <td>98</td>\n",
       "      <td>112</td>\n",
       "      <td>...</td>\n",
       "      <td>102</td>\n",
       "      <td>119</td>\n",
       "      <td>119</td>\n",
       "      <td>112</td>\n",
       "      <td>119</td>\n",
       "      <td>111</td>\n",
       "      <td>101</td>\n",
       "      <td>110</td>\n",
       "      <td>97</td>\n",
       "      <td>103</td>\n",
       "    </tr>\n",
       "    <tr>\n",
       "      <th>...</th>\n",
       "      <td>...</td>\n",
       "      <td>...</td>\n",
       "      <td>...</td>\n",
       "      <td>...</td>\n",
       "      <td>...</td>\n",
       "      <td>...</td>\n",
       "      <td>...</td>\n",
       "      <td>...</td>\n",
       "      <td>...</td>\n",
       "      <td>...</td>\n",
       "      <td>...</td>\n",
       "      <td>...</td>\n",
       "      <td>...</td>\n",
       "      <td>...</td>\n",
       "      <td>...</td>\n",
       "      <td>...</td>\n",
       "      <td>...</td>\n",
       "      <td>...</td>\n",
       "      <td>...</td>\n",
       "      <td>...</td>\n",
       "      <td>...</td>\n",
       "    </tr>\n",
       "    <tr>\n",
       "      <th>4491</th>\n",
       "      <td>112</td>\n",
       "      <td>120</td>\n",
       "      <td>121</td>\n",
       "      <td>121</td>\n",
       "      <td>102</td>\n",
       "      <td>102</td>\n",
       "      <td>102</td>\n",
       "      <td>99</td>\n",
       "      <td>98</td>\n",
       "      <td>112</td>\n",
       "      <td>...</td>\n",
       "      <td>107</td>\n",
       "      <td>110</td>\n",
       "      <td>110</td>\n",
       "      <td>112</td>\n",
       "      <td>119</td>\n",
       "      <td>111</td>\n",
       "      <td>108</td>\n",
       "      <td>104</td>\n",
       "      <td>121</td>\n",
       "      <td>103</td>\n",
       "    </tr>\n",
       "    <tr>\n",
       "      <th>4492</th>\n",
       "      <td>112</td>\n",
       "      <td>102</td>\n",
       "      <td>121</td>\n",
       "      <td>101</td>\n",
       "      <td>102</td>\n",
       "      <td>121</td>\n",
       "      <td>102</td>\n",
       "      <td>99</td>\n",
       "      <td>110</td>\n",
       "      <td>98</td>\n",
       "      <td>...</td>\n",
       "      <td>107</td>\n",
       "      <td>112</td>\n",
       "      <td>119</td>\n",
       "      <td>112</td>\n",
       "      <td>119</td>\n",
       "      <td>111</td>\n",
       "      <td>101</td>\n",
       "      <td>119</td>\n",
       "      <td>118</td>\n",
       "      <td>100</td>\n",
       "    </tr>\n",
       "    <tr>\n",
       "      <th>4493</th>\n",
       "      <td>112</td>\n",
       "      <td>120</td>\n",
       "      <td>121</td>\n",
       "      <td>103</td>\n",
       "      <td>102</td>\n",
       "      <td>102</td>\n",
       "      <td>102</td>\n",
       "      <td>99</td>\n",
       "      <td>98</td>\n",
       "      <td>104</td>\n",
       "      <td>...</td>\n",
       "      <td>107</td>\n",
       "      <td>112</td>\n",
       "      <td>112</td>\n",
       "      <td>112</td>\n",
       "      <td>119</td>\n",
       "      <td>111</td>\n",
       "      <td>108</td>\n",
       "      <td>104</td>\n",
       "      <td>121</td>\n",
       "      <td>112</td>\n",
       "    </tr>\n",
       "    <tr>\n",
       "      <th>4494</th>\n",
       "      <td>112</td>\n",
       "      <td>120</td>\n",
       "      <td>121</td>\n",
       "      <td>101</td>\n",
       "      <td>102</td>\n",
       "      <td>102</td>\n",
       "      <td>102</td>\n",
       "      <td>99</td>\n",
       "      <td>110</td>\n",
       "      <td>98</td>\n",
       "      <td>...</td>\n",
       "      <td>115</td>\n",
       "      <td>119</td>\n",
       "      <td>112</td>\n",
       "      <td>112</td>\n",
       "      <td>119</td>\n",
       "      <td>111</td>\n",
       "      <td>101</td>\n",
       "      <td>119</td>\n",
       "      <td>118</td>\n",
       "      <td>100</td>\n",
       "    </tr>\n",
       "    <tr>\n",
       "      <th>4495</th>\n",
       "      <td>112</td>\n",
       "      <td>98</td>\n",
       "      <td>115</td>\n",
       "      <td>98</td>\n",
       "      <td>116</td>\n",
       "      <td>110</td>\n",
       "      <td>102</td>\n",
       "      <td>99</td>\n",
       "      <td>98</td>\n",
       "      <td>103</td>\n",
       "      <td>...</td>\n",
       "      <td>115</td>\n",
       "      <td>119</td>\n",
       "      <td>119</td>\n",
       "      <td>112</td>\n",
       "      <td>119</td>\n",
       "      <td>116</td>\n",
       "      <td>112</td>\n",
       "      <td>114</td>\n",
       "      <td>118</td>\n",
       "      <td>103</td>\n",
       "    </tr>\n",
       "  </tbody>\n",
       "</table>\n",
       "<p>4496 rows × 23 columns</p>\n",
       "</div>"
      ],
      "text/plain": [
       "       0    1    2    3    4    5    6    7    8    9   ...   13   14   15  \\\n",
       "0     101  107  115  110  102  110   97   99   98  121  ...  115  111  111   \n",
       "1     101  107  115  103  102  110  102  119   98  112  ...  115  119  119   \n",
       "2     101   98  115  103  102  110  102  119   98  119  ...  115  119  119   \n",
       "3     101  115  102  103  102  110  102   99  110  110  ...  115  119  119   \n",
       "4     101  102  102  103  102  110  102  119   98  112  ...  102  119  119   \n",
       "...   ...  ...  ...  ...  ...  ...  ...  ...  ...  ...  ...  ...  ...  ...   \n",
       "4491  112  120  121  121  102  102  102   99   98  112  ...  107  110  110   \n",
       "4492  112  102  121  101  102  121  102   99  110   98  ...  107  112  119   \n",
       "4493  112  120  121  103  102  102  102   99   98  104  ...  107  112  112   \n",
       "4494  112  120  121  101  102  102  102   99  110   98  ...  115  119  112   \n",
       "4495  112   98  115   98  116  110  102   99   98  103  ...  115  119  119   \n",
       "\n",
       "       16   17   18   19   20   21   22  \n",
       "0     112  110  111  112   98   99  108  \n",
       "1     112  119  116  112  119  115  103  \n",
       "2     112  119  116  112  119  115  103  \n",
       "3     112  119  111  112  110  118  117  \n",
       "4     112  119  111  101  110   97  103  \n",
       "...   ...  ...  ...  ...  ...  ...  ...  \n",
       "4491  112  119  111  108  104  121  103  \n",
       "4492  112  119  111  101  119  118  100  \n",
       "4493  112  119  111  108  104  121  112  \n",
       "4494  112  119  111  101  119  118  100  \n",
       "4495  112  119  116  112  114  118  103  \n",
       "\n",
       "[4496 rows x 23 columns]"
      ]
     },
     "execution_count": 4,
     "metadata": {},
     "output_type": "execute_result"
    }
   ],
   "source": [
    "df"
   ]
  },
  {
   "cell_type": "markdown",
   "metadata": {},
   "source": [
    "# Helper Functions"
   ]
  },
  {
   "cell_type": "markdown",
   "metadata": {},
   "source": [
    "The function below splits the data into training data and testing data in two parts as per the size passed."
   ]
  },
  {
   "cell_type": "code",
   "execution_count": 5,
   "metadata": {},
   "outputs": [],
   "source": [
    "#train test split\n",
    "def train_test_split(df,test_size):\n",
    "    df_size=len(df)\n",
    "    if isinstance(test_size,float):#if test size is passed as a proportion\n",
    "        test_size=round(test_size*df_size)\n",
    "    #pick random samples from the data for train test split\n",
    "    indexes=df.index.tolist()\n",
    "    test_indices=random.sample(population=indexes,k=test_size)\n",
    "    #now putting the values of train and test data into the respective df's\n",
    "    test_df=df.loc[test_indices]\n",
    "    cropped_df=df.drop(test_indices)\n",
    "    train_df=cropped_df\n",
    "    return train_df,test_df"
   ]
  },
  {
   "cell_type": "markdown",
   "metadata": {},
   "source": [
    "The function below returns the distances between the test_sample(a single row) with all the training samples.\n",
    "p=1 means manhattan distance\n",
    "and p=2 means eucleidan distance."
   ]
  },
  {
   "cell_type": "code",
   "execution_count": 6,
   "metadata": {},
   "outputs": [],
   "source": [
    "def minkowski(train_values,test_value,p):\n",
    "        if(p==2):\n",
    "            distance=np.sum((train_values - test_value)**2,axis=1)\n",
    "            return distance\n",
    "        elif(p==1):\n",
    "            distance=np.sum(abs(train_values - test_value),axis=1)\n",
    "            return distance"
   ]
  },
  {
   "cell_type": "markdown",
   "metadata": {},
   "source": [
    "This is the main KNN function.It takes input three values,the hyperparamter k(the number of neighbours we have to consider),the test row which we have to classify.\n",
    "It takes the training data and finds distance from all of them with the test data.After finding the distances it sorts them and returns the top k neighbors."
   ]
  },
  {
   "cell_type": "code",
   "execution_count": 7,
   "metadata": {},
   "outputs": [],
   "source": [
    "def KNeighbors(k,train_values,test_value,p=2):\n",
    "        neighbors=[]\n",
    "        train_length=train_values.shape[0]\n",
    "        if(p==2):\n",
    "            distance=minkowski(train_values,test_value,p=2)\n",
    "        elif(p==1):\n",
    "            distance=minkowski(train_values,test_value,p=1)\n",
    "        k_neighbors=np.argsort(distance)\n",
    "        k_neighbors=k_neighbors[:k]\n",
    "        return k_neighbors"
   ]
  },
  {
   "cell_type": "markdown",
   "metadata": {},
   "source": [
    "The funcition takes in the k neighbors returned from the KNeighbors function and returns the most frequently occuring class/label."
   ]
  },
  {
   "cell_type": "code",
   "execution_count": 8,
   "metadata": {},
   "outputs": [],
   "source": [
    "def find_majority(k_index,train_labels):\n",
    "        ans = Counter(train_labels[k_index]).most_common()\n",
    "        return ans[0][0]"
   ]
  },
  {
   "cell_type": "markdown",
   "metadata": {},
   "source": [
    "# Validation and Hyperparameter tuning"
   ]
  },
  {
   "cell_type": "code",
   "execution_count": 9,
   "metadata": {},
   "outputs": [],
   "source": [
    "train_df,val_df=train_test_split(df,0.3)\n",
    "train_vals=train_df.to_numpy()\n",
    "validation_vals=val_df.to_numpy()\n",
    "train_values=train_vals[:,1:]\n",
    "train_labels=train_vals[:,0]\n",
    "validation_values=validation_vals[:,1:]\n",
    "validation_labels=validation_vals[:,0]"
   ]
  },
  {
   "cell_type": "markdown",
   "metadata": {},
   "source": [
    "We run our KNN algorithm for each k and choose the best amongst them through cross-validation accuracy for our test data."
   ]
  },
  {
   "cell_type": "code",
   "execution_count": 24,
   "metadata": {
    "scrolled": false
   },
   "outputs": [
    {
     "name": "stdout",
     "output_type": "stream",
     "text": [
      "Eucledian Distance\n",
      "K | Accuracy\n",
      "--------\n",
      "5 | 1.0\n",
      "--------\n",
      "10 | 1.0\n",
      "--------\n",
      "15 | 0.9977761304670126\n",
      "--------\n",
      "20 | 0.994069681245367\n",
      "--------\n",
      "25 | 0.9911045218680504\n",
      "--------\n",
      "30 | 0.9896219421793921\n",
      "--------\n",
      "35 | 0.9799851742031134\n",
      "--------\n",
      "40 | 0.9785025945144552\n",
      "--------\n",
      "45 | 0.9747961452928094\n",
      "--------\n",
      "50 | 0.9592290585618977\n",
      "--------\n",
      "55 | 0.9584877687175686\n",
      "--------\n",
      "60 | 0.9577464788732394\n",
      "--------\n",
      "65 | 0.9562638991845812\n",
      "--------\n",
      "70 | 0.9577464788732394\n",
      "--------\n",
      "75 | 0.9584877687175686\n",
      "--------\n",
      "80 | 0.9584877687175686\n",
      "--------\n",
      "85 | 0.955522609340252\n",
      "--------\n",
      "90 | 0.955522609340252\n",
      "--------\n",
      "95 | 0.949592290585619\n",
      "============\n",
      "For Manhattan Distance\n",
      "K | Accuracy\n",
      "--------\n",
      "5 | 1.0\n",
      "--------\n",
      "10 | 0.9992587101556709\n",
      "--------\n",
      "15 | 0.9992587101556709\n",
      "--------\n",
      "20 | 0.9992587101556709\n",
      "--------\n",
      "25 | 0.9977761304670126\n",
      "--------\n",
      "30 | 0.9970348406226834\n",
      "--------\n",
      "35 | 0.9933283914010378\n",
      "--------\n",
      "40 | 0.9925871015567087\n",
      "--------\n",
      "45 | 0.9918458117123795\n",
      "--------\n",
      "50 | 0.9792438843587843\n",
      "--------\n",
      "55 | 0.9755374351371386\n",
      "--------\n",
      "60 | 0.9755374351371386\n",
      "--------\n",
      "65 | 0.9747961452928094\n",
      "--------\n",
      "70 | 0.9755374351371386\n",
      "--------\n",
      "75 | 0.9747961452928094\n",
      "--------\n",
      "80 | 0.9740548554484804\n",
      "--------\n",
      "85 | 0.9740548554484804\n",
      "--------\n",
      "90 | 0.9740548554484804\n",
      "--------\n",
      "95 | 0.971830985915493\n"
     ]
    }
   ],
   "source": [
    "k_list=[]\n",
    "accuracy_list=[]\n",
    "k_list2=[]\n",
    "accuracy_list2=[]\n",
    "print(\"Eucledian Distance\")\n",
    "print(\"K\",\"|\",\"Accuracy\")\n",
    "for k in range(3,100):\n",
    "    prediction=[]\n",
    "    for i in range(validation_vals.shape[0]):\n",
    "        indexes=KNeighbors(k,train_values,validation_values[i],p=2)\n",
    "        result=find_majority(indexes,train_labels)\n",
    "        prediction.append(result)\n",
    "    prediction=np.array(prediction)\n",
    "    acc = np.sum(prediction == validation_labels)/prediction.shape[0]\n",
    "    accuracy_list.append(acc)\n",
    "    k_list.append(k)\n",
    "    if(k%5==0):\n",
    "        print(\"--------\")\n",
    "        print(k,\"|\",acc)\n",
    "print(\"============\")    \n",
    "print(\"For Manhattan Distance\")\n",
    "print(\"K\",\"|\",\"Accuracy\")\n",
    "for k in range(3,100):\n",
    "    prediction=[]\n",
    "    for i in range(validation_vals.shape[0]):\n",
    "        indexes=KNeighbors(k,train_values,validation_values[i],p=1)\n",
    "        result=find_majority(indexes,train_labels)\n",
    "        prediction.append(result)\n",
    "    prediction=np.array(prediction)\n",
    "    acc = np.sum(prediction == validation_labels)/prediction.shape[0]\n",
    "    k_list2.append(k)\n",
    "    accuracy_list2.append(acc)\n",
    "    if(k%5==0):\n",
    "        print(\"--------\")\n",
    "        print(k,\"|\",acc)\n"
   ]
  },
  {
   "cell_type": "code",
   "execution_count": 25,
   "metadata": {},
   "outputs": [
    {
     "data": {
      "image/png": "[encoded data removed]",
      "text/plain": [
       "<Figure size 432x288 with 1 Axes>"
      ]
     },
     "metadata": {
      "needs_background": "light"
     },
     "output_type": "display_data"
    }
   ],
   "source": [
    "plt.plot(k_list,accuracy_list)\n",
    "plt.xlabel('k value-->') \n",
    "# naming the y axis \n",
    "plt.ylabel('accuracy')\n",
    "plt.title('k vs accuracy graph with eucledian distance')\n",
    "plt.show()"
   ]
  },
  {
   "cell_type": "code",
   "execution_count": 26,
   "metadata": {},
   "outputs": [
    {
     "data": {
      "image/png": "[encoded data removed]",
      "text/plain": [
       "<Figure size 432x288 with 1 Axes>"
      ]
     },
     "metadata": {
      "needs_background": "light"
     },
     "output_type": "display_data"
    }
   ],
   "source": [
    "plt.plot(k_list2,accuracy_list2)\n",
    "plt.xlabel('k value-->') \n",
    "# naming the y axis \n",
    "plt.ylabel('accuracy')\n",
    "plt.title('k vs accuracy graph with manhattan distance')\n",
    "plt.show()"
   ]
  },
  {
   "cell_type": "markdown",
   "metadata": {},
   "source": [
    "# Testing"
   ]
  },
  {
   "cell_type": "markdown",
   "metadata": {},
   "source": [
    "We need to do the same pre-processing as before on the Test Data as well"
   ]
  },
  {
   "cell_type": "code",
   "execution_count": 66,
   "metadata": {},
   "outputs": [],
   "source": [
    "df_test=pd.read_csv(\"test.csv\",header=None)\n",
    "df_test_labels=pd.read_csv(\"test_labels.csv\",header=None)\n",
    "label_vals=df_test_labels.iloc[:,0].to_numpy()\n",
    "letters={\"a\":int(ord('a')),\"b\":int(ord('b')),\"c\":int(ord('c')),\"d\":int(ord('d')),\"e\":int(ord('e')),\"f\":int(ord('f')),\"g\":int(ord('g')),\"h\":int(ord('h'))\n",
    "                                             ,\"i\":int(ord('i')),\"j\":int(ord('j')),\"k\":int(ord('k')),\"l\":int(ord('l')),\"m\":int(ord('m')),\"n\":int(ord('n')),\"o\":int(ord('o')),\"p\":int(ord('p')),\"q\":int(ord('q')),\"r\":int(ord('r'))\n",
    "                                             ,\"s\":int(ord('s')),\"t\":int(ord('t')),\"u\":int(ord('u')),\"v\":int(ord('v')),\"w\":int(ord('w')),\"x\":int(ord('x')),\"y\":int(ord('y')),\"z\":int(ord('z'))} \n",
    "for column in df_test.columns:\n",
    "    df_test[column]=df_test[column].replace(to_replace =\"?\",  \n",
    "                            value =df_test[column].mode()[0])\n",
    "for column in df_test.columns:\n",
    "    df_test[column]=df_test[column].replace(to_replace=letters)\n",
    "for column in df_test_labels.columns:\n",
    "    df_test_labels[column]=df_test_labels[column].replace(to_replace=letters)\n",
    "test_vals=np.array(df_test)\n",
    "label_vals=np.array(label_vals)"
   ]
  },
  {
   "cell_type": "markdown",
   "metadata": {},
   "source": [
    "We got 100% accuracy for K=3 and K=5 on validation data.I am choosing K=5 for testing."
   ]
  },
  {
   "cell_type": "code",
   "execution_count": 80,
   "metadata": {},
   "outputs": [
    {
     "name": "stdout",
     "output_type": "stream",
     "text": [
      "Accuracy: 1.0\n"
     ]
    }
   ],
   "source": [
    "prediction=[]\n",
    "for i in range(test_vals.shape[0]):\n",
    "    indexes=KNeighbors(5,train_values,test_vals[i])\n",
    "    result=find_majority(indexes,train_labels)\n",
    "    prediction.append(result)\n",
    "prediction=np.array(prediction)\n",
    "acc = np.sum(prediction == label_vals)/prediction.shape[0]\n",
    "predictions=[]\n",
    "for i in range(0,len(prediction)):\n",
    "    predictions.append(chr(prediction[i]))\n",
    "labels=[]\n",
    "for i in range(0,len(prediction)):\n",
    "    labels.append(chr(label_vals[i]))\n",
    "print(\"Accuracy:\",acc)\n"
   ]
  },
  {
   "cell_type": "markdown",
   "metadata": {},
   "source": [
    "# Performance metrics:"
   ]
  },
  {
   "cell_type": "markdown",
   "metadata": {},
   "source": [
    "# 1.Confusion matrix"
   ]
  },
  {
   "cell_type": "markdown",
   "metadata": {},
   "source": [
    "A confusion matrix is a technique for summarizing the performance of a classification algorithm. Classification accuracy alone can be misleading if you have an unequal number of observations in each class or if you have more than two classes in your dataset.The left to right (primary)diagonal elements of a confusion matrix indicate the correct predictions and the off diagonal elements indicate the number of misclassifications"
   ]
  },
  {
   "cell_type": "code",
   "execution_count": 87,
   "metadata": {},
   "outputs": [
    {
     "name": "stdout",
     "output_type": "stream",
     "text": [
      "[[505   0]\n",
      " [  0 495]]\n"
     ]
    }
   ],
   "source": [
    "cm = confusion_matrix(labels, predictions)\n",
    "print(cm)"
   ]
  },
  {
   "cell_type": "markdown",
   "metadata": {},
   "source": [
    "The above confusion matrix shows that 595 values are correctly classified as 'e' class and an 495 values are classified correctly as 'p' class.There were no prediction errors."
   ]
  },
  {
   "cell_type": "markdown",
   "metadata": {},
   "source": [
    "# 2. F1-score"
   ]
  },
  {
   "cell_type": "markdown",
   "metadata": {},
   "source": [
    "Precision is the number of True Positives divided by the number of True Positives and False Positives. Put another way, it is the number of positive predictions divided by the total number of positive class values predicted.\n",
    "\n",
    "Recall is the number of True Positives divided by the number of True Positives and the number of False Negatives. Put another way it is the number of positive predictions divided by the number of positive class values in the test data. It is also called Sensitivity or the True Positive Rate.\n",
    "\n",
    "The F1 Score is the 2*((precision * recall)/(precision+recall)).\n",
    "The F1 score conveys the balance between the precision and the recall.The higher F1 score,the better.The F1 score can be interpreted as a weighted average of the precision and recall, where an F1 score reaches its best value at 1 and worst score at 0."
   ]
  },
  {
   "cell_type": "code",
   "execution_count": 102,
   "metadata": {},
   "outputs": [
    {
     "name": "stdout",
     "output_type": "stream",
     "text": [
      "1.0\n"
     ]
    }
   ],
   "source": [
    "print(f1_score(labels, predictions,average='micro'))"
   ]
  },
  {
   "cell_type": "markdown",
   "metadata": {},
   "source": [
    "# BaseLine Accuracy "
   ]
  },
  {
   "cell_type": "markdown",
   "metadata": {},
   "source": [
    "# 1.Random Guessing"
   ]
  },
  {
   "cell_type": "code",
   "execution_count": 126,
   "metadata": {},
   "outputs": [
    {
     "name": "stdout",
     "output_type": "stream",
     "text": [
      " Random guessing Accuracy :  0.499\n",
      " Random guessing Accuracy :  0.479\n",
      " Random guessing Accuracy :  0.49\n",
      " Random guessing Accuracy :  0.506\n",
      " Random guessing Accuracy :  0.46\n",
      " Random guessing Accuracy :  0.522\n",
      " Random guessing Accuracy :  0.518\n",
      " Random guessing Accuracy :  0.46\n",
      " Random guessing Accuracy :  0.52\n",
      " Random guessing Accuracy :  0.505\n"
     ]
    }
   ],
   "source": [
    "random_classes=['e','p']\n",
    "labels=[]\n",
    "for i in range(0,len(random_results)):\n",
    "    labels.append(chr(label_vals[i]))\n",
    "for chances in range(0,10):\n",
    "    random_results=[]\n",
    "    for i in range(test_vals.shape[0]):\n",
    "        result=random.choice(random_classes)\n",
    "        random_results.append(result)\n",
    "    random_results=np.array(random_results)\n",
    "    acc = np.sum(random_results == labels)/random_results.shape[0]\n",
    "    print(\" Random guessing Accuracy : \",acc)"
   ]
  },
  {
   "cell_type": "markdown",
   "metadata": {},
   "source": [
    "In this we randomly guess one of the classes from the list of all classes.From above we see that the accuracy with random guessing is on an average ~0.5 i.e 50% .This is a baseline score and a model is really poor if it fails to reach this accuracy."
   ]
  },
  {
   "cell_type": "markdown",
   "metadata": {},
   "source": [
    "#  2. Majority Voting"
   ]
  },
  {
   "cell_type": "code",
   "execution_count": 131,
   "metadata": {},
   "outputs": [
    {
     "name": "stdout",
     "output_type": "stream",
     "text": [
      " Majority Voting Accuracy :  0.505\n",
      " Majority Voting Accuracy :  0.505\n",
      " Majority Voting Accuracy :  0.505\n",
      " Majority Voting Accuracy :  0.505\n",
      " Majority Voting Accuracy :  0.505\n"
     ]
    }
   ],
   "source": [
    "for chances in range(0,5):\n",
    "    majority_results=[]\n",
    "    for i in range(test_vals.shape[0]):\n",
    "        result = Counter(train_labels).most_common()\n",
    "        majority_results.append(result[0][0])\n",
    "    majority_results=np.array(random_results)\n",
    "    acc = np.sum(majority_results == labels)/majority_results.shape[0]\n",
    "    print(\" Majority Voting Accuracy : \",acc)"
   ]
  },
  {
   "cell_type": "markdown",
   "metadata": {},
   "source": [
    "In this we return the class which has the highest number of occurance from the list of all classes.From above we see that the accuracy with Majority Voting is on an average ~0.5 i.e ~50% same as random guessing here because it has only two classes and the train data was well balanced.This is a baseline score and a model is really poor if it fails to reach this accuracy."
   ]
  },
  {
   "cell_type": "markdown",
   "metadata": {},
   "source": [
    "# Comparison with scikit-learn  KNN classifier"
   ]
  },
  {
   "cell_type": "code",
   "execution_count": 132,
   "metadata": {},
   "outputs": [
    {
     "data": {
      "text/plain": [
       "KNeighborsClassifier(algorithm='auto', leaf_size=30, metric='minkowski',\n",
       "                     metric_params=None, n_jobs=None, n_neighbors=6, p=2,\n",
       "                     weights='uniform')"
      ]
     },
     "execution_count": 132,
     "metadata": {},
     "output_type": "execute_result"
    }
   ],
   "source": [
    "from sklearn.neighbors import KNeighborsClassifier\n",
    "classifier=KNeighborsClassifier(n_neighbors=6,metric='minkowski',p=2)\n",
    "classifier.fit(train_values,train_labels)"
   ]
  },
  {
   "cell_type": "code",
   "execution_count": 138,
   "metadata": {},
   "outputs": [
    {
     "name": "stdout",
     "output_type": "stream",
     "text": [
      "0.999\n"
     ]
    }
   ],
   "source": [
    "sk_predictions=classifier.predict(test_vals)\n",
    "sk_prediction=np.array(sk_predictions)\n",
    "acc = np.sum(sk_prediction == label_vals)/sk_prediction.shape[0]\n",
    "print(acc)"
   ]
  },
  {
   "cell_type": "markdown",
   "metadata": {},
   "source": [
    "The scikit-learn KNN classifier gives 99.9 percent accuracy,which is equivalent to our KNN classifier above."
   ]
  }
 ],
 "metadata": {
  "kernelspec": {
   "display_name": "Python 3",
   "language": "python",
   "name": "python3"
  },
  "language_info": {
   "codemirror_mode": {
    "name": "ipython",
    "version": 3
   },
   "file_extension": ".py",
   "mimetype": "text/x-python",
   "name": "python",
   "nbconvert_exporter": "python",
   "pygments_lexer": "ipython3",
   "version": "3.7.4"
  }
 },
 "nbformat": 4,
 "nbformat_minor": 2
}
